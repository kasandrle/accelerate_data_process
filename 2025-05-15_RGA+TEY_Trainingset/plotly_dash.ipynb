{
 "cells": [
  {
   "cell_type": "code",
   "execution_count": 6,
   "metadata": {},
   "outputs": [
    {
     "data": {
      "text/html": [
       "\n",
       "        <iframe\n",
       "            width=\"100%\"\n",
       "            height=\"650\"\n",
       "            src=\"http://127.0.0.1:8080/\"\n",
       "            frameborder=\"0\"\n",
       "            allowfullscreen\n",
       "            \n",
       "        ></iframe>\n",
       "        "
      ],
      "text/plain": [
       "<IPython.lib.display.IFrame at 0x79ad19398920>"
      ]
     },
     "metadata": {},
     "output_type": "display_data"
    }
   ],
   "source": [
    "import dash\n",
    "from dash import dcc\n",
    "from dash import html\n",
    "from dash.dependencies import Input, Output\n",
    "import plotly.graph_objects as go\n",
    "import pandas as pd\n",
    "import numpy as np\n",
    "\n",
    "# Initialize Dash app\n",
    "app = dash.Dash(__name__)\n",
    "\n",
    "app.layout = html.Div([\n",
    "    html.H1(\"Sample Data Visualization\"),\n",
    "    dcc.Graph(id=\"example-plot\")\n",
    "])\n",
    "\n",
    "@app.callback(Output(\"example-plot\", \"figure\"), Input(\"example-plot\", \"id\"))\n",
    "def update_plot(_):\n",
    "    fig = go.Figure(go.Scatter(x=np.linspace(0, 10, 100), y=np.sin(np.linspace(0, 10, 100))))\n",
    "    return fig\n",
    "\n",
    "# Run Dash in Jupyter Notebook\n",
    "app.run_server(mode=\"inline\", port=8080, use_reloader=False)"
   ]
  },
  {
   "cell_type": "code",
   "execution_count": 3,
   "metadata": {},
   "outputs": [
    {
     "name": "stdout",
     "output_type": "stream",
     "text": [
      "Requirement already satisfied: jupyter-dash in /home/kas/Projects/.venv/lib/python3.12/site-packages (0.4.2)\n",
      "Requirement already satisfied: dash in /home/kas/Projects/.venv/lib/python3.12/site-packages (2.18.1)\n",
      "Requirement already satisfied: pandas in /home/kas/Projects/.venv/lib/python3.12/site-packages (2.2.2)\n",
      "Requirement already satisfied: plotly in /home/kas/Projects/.venv/lib/python3.12/site-packages (5.24.1)\n",
      "Requirement already satisfied: requests in /home/kas/Projects/.venv/lib/python3.12/site-packages (from jupyter-dash) (2.32.3)\n",
      "Requirement already satisfied: flask in /home/kas/Projects/.venv/lib/python3.12/site-packages (from jupyter-dash) (3.0.3)\n",
      "Requirement already satisfied: retrying in /home/kas/Projects/.venv/lib/python3.12/site-packages (from jupyter-dash) (1.3.4)\n",
      "Requirement already satisfied: ipython in /home/kas/Projects/.venv/lib/python3.12/site-packages (from jupyter-dash) (8.26.0)\n",
      "Requirement already satisfied: ipykernel in /home/kas/Projects/.venv/lib/python3.12/site-packages (from jupyter-dash) (6.29.5)\n",
      "Requirement already satisfied: ansi2html in /home/kas/Projects/.venv/lib/python3.12/site-packages (from jupyter-dash) (1.9.2)\n",
      "Requirement already satisfied: nest-asyncio in /home/kas/Projects/.venv/lib/python3.12/site-packages (from jupyter-dash) (1.6.0)\n",
      "Requirement already satisfied: Werkzeug<3.1 in /home/kas/Projects/.venv/lib/python3.12/site-packages (from dash) (3.0.6)\n",
      "Requirement already satisfied: dash-html-components==2.0.0 in /home/kas/Projects/.venv/lib/python3.12/site-packages (from dash) (2.0.0)\n",
      "Requirement already satisfied: dash-core-components==2.0.0 in /home/kas/Projects/.venv/lib/python3.12/site-packages (from dash) (2.0.0)\n",
      "Requirement already satisfied: dash-table==5.0.0 in /home/kas/Projects/.venv/lib/python3.12/site-packages (from dash) (5.0.0)\n",
      "Requirement already satisfied: importlib-metadata in /home/kas/Projects/.venv/lib/python3.12/site-packages (from dash) (8.5.0)\n",
      "Requirement already satisfied: typing-extensions>=4.1.1 in /home/kas/Projects/.venv/lib/python3.12/site-packages (from dash) (4.12.2)\n",
      "Requirement already satisfied: setuptools in /home/kas/Projects/.venv/lib/python3.12/site-packages (from dash) (70.3.0)\n",
      "Requirement already satisfied: numpy>=1.26.0 in /home/kas/Projects/.venv/lib/python3.12/site-packages (from pandas) (2.0.2)\n",
      "Requirement already satisfied: python-dateutil>=2.8.2 in /home/kas/Projects/.venv/lib/python3.12/site-packages (from pandas) (2.9.0.post0)\n",
      "Requirement already satisfied: pytz>=2020.1 in /home/kas/Projects/.venv/lib/python3.12/site-packages (from pandas) (2024.1)\n",
      "Requirement already satisfied: tzdata>=2022.7 in /home/kas/Projects/.venv/lib/python3.12/site-packages (from pandas) (2024.1)\n",
      "Requirement already satisfied: tenacity>=6.2.0 in /home/kas/Projects/.venv/lib/python3.12/site-packages (from plotly) (9.0.0)\n",
      "Requirement already satisfied: packaging in /home/kas/Projects/.venv/lib/python3.12/site-packages (from plotly) (24.1)\n",
      "Requirement already satisfied: Jinja2>=3.1.2 in /home/kas/Projects/.venv/lib/python3.12/site-packages (from flask->jupyter-dash) (3.1.4)\n",
      "Requirement already satisfied: itsdangerous>=2.1.2 in /home/kas/Projects/.venv/lib/python3.12/site-packages (from flask->jupyter-dash) (2.2.0)\n",
      "Requirement already satisfied: click>=8.1.3 in /home/kas/Projects/.venv/lib/python3.12/site-packages (from flask->jupyter-dash) (8.1.7)\n",
      "Requirement already satisfied: blinker>=1.6.2 in /home/kas/Projects/.venv/lib/python3.12/site-packages (from flask->jupyter-dash) (1.8.2)\n",
      "Requirement already satisfied: six>=1.5 in /home/kas/Projects/.venv/lib/python3.12/site-packages (from python-dateutil>=2.8.2->pandas) (1.16.0)\n",
      "Requirement already satisfied: MarkupSafe>=2.1.1 in /home/kas/Projects/.venv/lib/python3.12/site-packages (from Werkzeug<3.1->dash) (2.1.5)\n",
      "Requirement already satisfied: zipp>=3.20 in /home/kas/Projects/.venv/lib/python3.12/site-packages (from importlib-metadata->dash) (3.20.2)\n",
      "Requirement already satisfied: comm>=0.1.1 in /home/kas/Projects/.venv/lib/python3.12/site-packages (from ipykernel->jupyter-dash) (0.2.2)\n",
      "Requirement already satisfied: debugpy>=1.6.5 in /home/kas/Projects/.venv/lib/python3.12/site-packages (from ipykernel->jupyter-dash) (1.8.2)\n",
      "Requirement already satisfied: jupyter-client>=6.1.12 in /home/kas/Projects/.venv/lib/python3.12/site-packages (from ipykernel->jupyter-dash) (8.6.2)\n",
      "Requirement already satisfied: jupyter-core!=5.0.*,>=4.12 in /home/kas/Projects/.venv/lib/python3.12/site-packages (from ipykernel->jupyter-dash) (5.7.2)\n",
      "Requirement already satisfied: matplotlib-inline>=0.1 in /home/kas/Projects/.venv/lib/python3.12/site-packages (from ipykernel->jupyter-dash) (0.1.7)\n",
      "Requirement already satisfied: psutil in /home/kas/Projects/.venv/lib/python3.12/site-packages (from ipykernel->jupyter-dash) (6.0.0)\n",
      "Requirement already satisfied: pyzmq>=24 in /home/kas/Projects/.venv/lib/python3.12/site-packages (from ipykernel->jupyter-dash) (26.0.3)\n",
      "Requirement already satisfied: tornado>=6.1 in /home/kas/Projects/.venv/lib/python3.12/site-packages (from ipykernel->jupyter-dash) (6.4.1)\n",
      "Requirement already satisfied: traitlets>=5.4.0 in /home/kas/Projects/.venv/lib/python3.12/site-packages (from ipykernel->jupyter-dash) (5.14.3)\n",
      "Requirement already satisfied: decorator in /home/kas/Projects/.venv/lib/python3.12/site-packages (from ipython->jupyter-dash) (5.1.1)\n",
      "Requirement already satisfied: jedi>=0.16 in /home/kas/Projects/.venv/lib/python3.12/site-packages (from ipython->jupyter-dash) (0.19.1)\n",
      "Requirement already satisfied: prompt-toolkit<3.1.0,>=3.0.41 in /home/kas/Projects/.venv/lib/python3.12/site-packages (from ipython->jupyter-dash) (3.0.47)\n",
      "Requirement already satisfied: pygments>=2.4.0 in /home/kas/Projects/.venv/lib/python3.12/site-packages (from ipython->jupyter-dash) (2.18.0)\n",
      "Requirement already satisfied: stack-data in /home/kas/Projects/.venv/lib/python3.12/site-packages (from ipython->jupyter-dash) (0.6.3)\n",
      "Requirement already satisfied: pexpect>4.3 in /home/kas/Projects/.venv/lib/python3.12/site-packages (from ipython->jupyter-dash) (4.9.0)\n",
      "Requirement already satisfied: charset-normalizer<4,>=2 in /home/kas/Projects/.venv/lib/python3.12/site-packages (from requests->jupyter-dash) (3.3.2)\n",
      "Requirement already satisfied: idna<4,>=2.5 in /home/kas/Projects/.venv/lib/python3.12/site-packages (from requests->jupyter-dash) (3.7)\n",
      "Requirement already satisfied: urllib3<3,>=1.21.1 in /home/kas/Projects/.venv/lib/python3.12/site-packages (from requests->jupyter-dash) (2.2.2)\n",
      "Requirement already satisfied: certifi>=2017.4.17 in /home/kas/Projects/.venv/lib/python3.12/site-packages (from requests->jupyter-dash) (2024.7.4)\n",
      "Requirement already satisfied: parso<0.9.0,>=0.8.3 in /home/kas/Projects/.venv/lib/python3.12/site-packages (from jedi>=0.16->ipython->jupyter-dash) (0.8.4)\n",
      "Requirement already satisfied: platformdirs>=2.5 in /home/kas/Projects/.venv/lib/python3.12/site-packages (from jupyter-core!=5.0.*,>=4.12->ipykernel->jupyter-dash) (4.2.2)\n",
      "Requirement already satisfied: ptyprocess>=0.5 in /home/kas/Projects/.venv/lib/python3.12/site-packages (from pexpect>4.3->ipython->jupyter-dash) (0.7.0)\n",
      "Requirement already satisfied: wcwidth in /home/kas/Projects/.venv/lib/python3.12/site-packages (from prompt-toolkit<3.1.0,>=3.0.41->ipython->jupyter-dash) (0.2.13)\n",
      "Requirement already satisfied: executing>=1.2.0 in /home/kas/Projects/.venv/lib/python3.12/site-packages (from stack-data->ipython->jupyter-dash) (2.0.1)\n",
      "Requirement already satisfied: asttokens>=2.1.0 in /home/kas/Projects/.venv/lib/python3.12/site-packages (from stack-data->ipython->jupyter-dash) (2.4.1)\n",
      "Requirement already satisfied: pure-eval in /home/kas/Projects/.venv/lib/python3.12/site-packages (from stack-data->ipython->jupyter-dash) (0.2.2)\n",
      "\n",
      "\u001b[1m[\u001b[0m\u001b[34;49mnotice\u001b[0m\u001b[1;39;49m]\u001b[0m\u001b[39;49m A new release of pip is available: \u001b[0m\u001b[31;49m24.3.1\u001b[0m\u001b[39;49m -> \u001b[0m\u001b[32;49m25.1.1\u001b[0m\n",
      "\u001b[1m[\u001b[0m\u001b[34;49mnotice\u001b[0m\u001b[1;39;49m]\u001b[0m\u001b[39;49m To update, run: \u001b[0m\u001b[32;49mpip install --upgrade pip\u001b[0m\n"
     ]
    }
   ],
   "source": [
    "!pip install jupyter-dash dash pandas plotly\n"
   ]
  },
  {
   "cell_type": "code",
   "execution_count": null,
   "metadata": {},
   "outputs": [],
   "source": []
  }
 ],
 "metadata": {
  "kernelspec": {
   "display_name": ".venv",
   "language": "python",
   "name": "python3"
  },
  "language_info": {
   "codemirror_mode": {
    "name": "ipython",
    "version": 3
   },
   "file_extension": ".py",
   "mimetype": "text/x-python",
   "name": "python",
   "nbconvert_exporter": "python",
   "pygments_lexer": "ipython3",
   "version": "3.12.3"
  }
 },
 "nbformat": 4,
 "nbformat_minor": 2
}
